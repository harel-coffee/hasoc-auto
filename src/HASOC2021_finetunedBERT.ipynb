{
  "nbformat": 4,
  "nbformat_minor": 0,
  "metadata": {
    "colab": {
      "name": "HASOC2021_finetunedBERT.ipynb",
      "provenance": [],
      "collapsed_sections": [],
      "authorship_tag": "ABX9TyPWR7QGq2zC0sjk1+Y9BmTK",
      "include_colab_link": true
    },
    "kernelspec": {
      "name": "python3",
      "display_name": "Python 3"
    },
    "language_info": {
      "name": "python"
    }
  },
  "cells": [
    {
      "cell_type": "markdown",
      "metadata": {
        "id": "view-in-github",
        "colab_type": "text"
      },
      "source": [
        "<a href=\"https://colab.research.google.com/github/ixomaxip/nasoc/blob/master/src/HASOC2021_finetunedBERT.ipynb\" target=\"_parent\"><img src=\"https://colab.research.google.com/assets/colab-badge.svg\" alt=\"Open In Colab\"/></a>"
      ]
    },
    {
      "cell_type": "code",
      "metadata": {
        "id": "kwkNZyxpjxgr"
      },
      "source": [
        "import numpy as np\n",
        "import pandas as pd\n",
        "\n",
        "from sklearn.model_selection import train_test_split\n",
        "\n",
        "import os\n",
        "import datetime\n",
        "import re\n",
        "\n",
        "import IPython\n",
        "import IPython.display\n",
        "import matplotlib as mpl\n",
        "import matplotlib.pyplot as plt\n",
        "import seaborn as sns\n",
        "import tensorflow as tf"
      ],
      "execution_count": 1,
      "outputs": []
    },
    {
      "cell_type": "markdown",
      "metadata": {
        "id": "aGLlGCdYkwm5"
      },
      "source": [
        "# Get and prepare data"
      ]
    },
    {
      "cell_type": "code",
      "metadata": {
        "id": "wC-HiWsRj-gh"
      },
      "source": [
        "#constants and parameters\n",
        "seed = 42\n",
        "\n",
        "path_gdrive_saved = '/content/drive/My Drive/nasoc/bert_tuned.weights'\n",
        "\n",
        "batch_size = 32\n",
        "\n",
        "DOWNLOAD_DATASET = False"
      ],
      "execution_count": 2,
      "outputs": []
    },
    {
      "cell_type": "code",
      "metadata": {
        "colab": {
          "base_uri": "https://localhost:8080/",
          "height": 441
        },
        "id": "0u3mfzpkkNHr",
        "outputId": "7dd7585f-d4c5-4c0b-e42e-b9e7a5be4582"
      },
      "source": [
        "from google.colab import drive\n",
        "drive.mount('/content/drive')\n",
        "\n",
        "path_gdrive = '/content/drive/My Drive/nasoc/en_Hasoc2021_train.csv'\n",
        "#with open(path_gdrive, 'r') as f:\n",
        "#  print(f.read())\n",
        "\n",
        "pd.read_csv(path_gdrive)"
      ],
      "execution_count": 3,
      "outputs": [
        {
          "output_type": "stream",
          "text": [
            "Mounted at /content/drive\n"
          ],
          "name": "stdout"
        },
        {
          "output_type": "execute_result",
          "data": {
            "text/html": [
              "<div>\n",
              "<style scoped>\n",
              "    .dataframe tbody tr th:only-of-type {\n",
              "        vertical-align: middle;\n",
              "    }\n",
              "\n",
              "    .dataframe tbody tr th {\n",
              "        vertical-align: top;\n",
              "    }\n",
              "\n",
              "    .dataframe thead th {\n",
              "        text-align: right;\n",
              "    }\n",
              "</style>\n",
              "<table border=\"1\" class=\"dataframe\">\n",
              "  <thead>\n",
              "    <tr style=\"text-align: right;\">\n",
              "      <th></th>\n",
              "      <th>Unnamed: 0</th>\n",
              "      <th>_id</th>\n",
              "      <th>text</th>\n",
              "      <th>task_1</th>\n",
              "      <th>task_2</th>\n",
              "    </tr>\n",
              "  </thead>\n",
              "  <tbody>\n",
              "    <tr>\n",
              "      <th>0</th>\n",
              "      <td>4986</td>\n",
              "      <td>60c5d6bf5659ea5e55defa2c</td>\n",
              "      <td>@wealth if you made it through this &amp;amp;&amp;amp;...</td>\n",
              "      <td>HOF</td>\n",
              "      <td>PRFN</td>\n",
              "    </tr>\n",
              "    <tr>\n",
              "      <th>1</th>\n",
              "      <td>3394</td>\n",
              "      <td>60c5d6bf5659ea5e55def461</td>\n",
              "      <td>Technically that's still turning back the cloc...</td>\n",
              "      <td>HOF</td>\n",
              "      <td>OFFN</td>\n",
              "    </tr>\n",
              "    <tr>\n",
              "      <th>2</th>\n",
              "      <td>1310</td>\n",
              "      <td>60c5d6bf5659ea5e55defaad</td>\n",
              "      <td>@VMBJP @BJP4Bengal @BJP4India @narendramodi @J...</td>\n",
              "      <td>NOT</td>\n",
              "      <td>NONE</td>\n",
              "    </tr>\n",
              "    <tr>\n",
              "      <th>3</th>\n",
              "      <td>3390</td>\n",
              "      <td>60c5d6bf5659ea5e55def419</td>\n",
              "      <td>@krtoprak_yigit Soldier of Japan Who has dick ...</td>\n",
              "      <td>HOF</td>\n",
              "      <td>OFFN</td>\n",
              "    </tr>\n",
              "    <tr>\n",
              "      <th>4</th>\n",
              "      <td>4626</td>\n",
              "      <td>60c5d6bf5659ea5e55def7fa</td>\n",
              "      <td>@blueheartedly You'd be better off asking who ...</td>\n",
              "      <td>HOF</td>\n",
              "      <td>OFFN</td>\n",
              "    </tr>\n",
              "    <tr>\n",
              "      <th>...</th>\n",
              "      <td>...</td>\n",
              "      <td>...</td>\n",
              "      <td>...</td>\n",
              "      <td>...</td>\n",
              "      <td>...</td>\n",
              "    </tr>\n",
              "    <tr>\n",
              "      <th>3838</th>\n",
              "      <td>1661</td>\n",
              "      <td>60c5d6bf5659ea5e55defd57</td>\n",
              "      <td>@BBCNews Let the dog deal with the wanker once...</td>\n",
              "      <td>HOF</td>\n",
              "      <td>PRFN</td>\n",
              "    </tr>\n",
              "    <tr>\n",
              "      <th>3839</th>\n",
              "      <td>194</td>\n",
              "      <td>60c5d6bf5659ea5e55def185</td>\n",
              "      <td>India has suffered a lot. That Chinese bastard...</td>\n",
              "      <td>HOF</td>\n",
              "      <td>HATE</td>\n",
              "    </tr>\n",
              "    <tr>\n",
              "      <th>3840</th>\n",
              "      <td>3988</td>\n",
              "      <td>60c5d6bf5659ea5e55def78c</td>\n",
              "      <td>People didn't give 300+ seats majority to BJP ...</td>\n",
              "      <td>HOF</td>\n",
              "      <td>HATE</td>\n",
              "    </tr>\n",
              "    <tr>\n",
              "      <th>3841</th>\n",
              "      <td>4212</td>\n",
              "      <td>60c5d6bf5659ea5e55defb04</td>\n",
              "      <td>@KanganaTeam This is such a vile, xenophobic a...</td>\n",
              "      <td>HOF</td>\n",
              "      <td>PRFN</td>\n",
              "    </tr>\n",
              "    <tr>\n",
              "      <th>3842</th>\n",
              "      <td>1512</td>\n",
              "      <td>60c5d6bf5659ea5e55defb8a</td>\n",
              "      <td>@30iPpgStmILw0SI @ChinaDaily #ChineseVirus #Wu...</td>\n",
              "      <td>NOT</td>\n",
              "      <td>NONE</td>\n",
              "    </tr>\n",
              "  </tbody>\n",
              "</table>\n",
              "<p>3843 rows × 5 columns</p>\n",
              "</div>"
            ],
            "text/plain": [
              "      Unnamed: 0                       _id  ... task_1 task_2\n",
              "0           4986  60c5d6bf5659ea5e55defa2c  ...    HOF   PRFN\n",
              "1           3394  60c5d6bf5659ea5e55def461  ...    HOF   OFFN\n",
              "2           1310  60c5d6bf5659ea5e55defaad  ...    NOT   NONE\n",
              "3           3390  60c5d6bf5659ea5e55def419  ...    HOF   OFFN\n",
              "4           4626  60c5d6bf5659ea5e55def7fa  ...    HOF   OFFN\n",
              "...          ...                       ...  ...    ...    ...\n",
              "3838        1661  60c5d6bf5659ea5e55defd57  ...    HOF   PRFN\n",
              "3839         194  60c5d6bf5659ea5e55def185  ...    HOF   HATE\n",
              "3840        3988  60c5d6bf5659ea5e55def78c  ...    HOF   HATE\n",
              "3841        4212  60c5d6bf5659ea5e55defb04  ...    HOF   PRFN\n",
              "3842        1512  60c5d6bf5659ea5e55defb8a  ...    NOT   NONE\n",
              "\n",
              "[3843 rows x 5 columns]"
            ]
          },
          "metadata": {
            "tags": []
          },
          "execution_count": 3
        }
      ]
    },
    {
      "cell_type": "code",
      "metadata": {
        "colab": {
          "base_uri": "https://localhost:8080/"
        },
        "id": "dsnPFgbTkPcX",
        "outputId": "df3a4b5a-1f42-4b68-c91c-ef85d07b09f7"
      },
      "source": [
        "!wget https://hasocfire.github.io/hasoc/2021/files/en_Hasoc2021_train.zip\n",
        "!unzip -P hasoc2021_en en_Hasoc2021_train.zip\n",
        "!ls"
      ],
      "execution_count": 4,
      "outputs": [
        {
          "output_type": "stream",
          "text": [
            "--2021-08-04 14:50:55--  https://hasocfire.github.io/hasoc/2021/files/en_Hasoc2021_train.zip\n",
            "Resolving hasocfire.github.io (hasocfire.github.io)... 185.199.109.153, 185.199.110.153, 185.199.111.153, ...\n",
            "Connecting to hasocfire.github.io (hasocfire.github.io)|185.199.109.153|:443... connected.\n",
            "HTTP request sent, awaiting response... 200 OK\n",
            "Length: 330206 (322K) [application/zip]\n",
            "Saving to: ‘en_Hasoc2021_train.zip’\n",
            "\n",
            "en_Hasoc2021_train. 100%[===================>] 322.47K  --.-KB/s    in 0.04s   \n",
            "\n",
            "2021-08-04 14:50:56 (7.41 MB/s) - ‘en_Hasoc2021_train.zip’ saved [330206/330206]\n",
            "\n",
            "Archive:  en_Hasoc2021_train.zip\n",
            "  inflating: en_Hasoc2021_train.csv  \n",
            "drive  en_Hasoc2021_train.csv  en_Hasoc2021_train.zip  sample_data\n"
          ],
          "name": "stdout"
        }
      ]
    },
    {
      "cell_type": "code",
      "metadata": {
        "colab": {
          "base_uri": "https://localhost:8080/"
        },
        "id": "99uE2io1kQZA",
        "outputId": "574272f4-6d36-4beb-b1ed-c4a914dd625b"
      },
      "source": [
        "raw_dataset = pd.read_csv('en_Hasoc2021_train.csv')\n",
        "\n",
        "raw_dataset['inputs'] = pd.Categorical(raw_dataset['task_1'])\n",
        "raw_dataset['inputs'] = raw_dataset.inputs.cat.codes\n",
        "\n",
        "raw_dataset['task_2_cat'] = pd.Categorical(raw_dataset['task_2'])\n",
        "raw_dataset['task_2_cat'] = raw_dataset.task_2_cat.cat.codes\n",
        "\n",
        "print(list(raw_dataset.columns.values.tolist()))\n",
        "print(raw_dataset.head())\n",
        "\n",
        "train_df, test_df = train_test_split(raw_dataset, test_size=0.2, random_state=seed)\n",
        "\n",
        "sr_train = train_df.groupby('task_1').count()['text']\n",
        "sr_test  = test_df.groupby('task_1').count()['text']\n",
        "\n",
        "tr_pr = sr_train['NOT']/sr_train['HOF']\n",
        "ts_pr = sr_test['NOT']/sr_test['HOF']\n",
        "\n",
        "print(f\"Train set: {sr_train}\\n\\nTest set: {sr_test}\\n\\nNeutral to offensive proportion in the train set: {tr_pr:.2f} and in the test set: {ts_pr:.2f}\")"
      ],
      "execution_count": 6,
      "outputs": [
        {
          "output_type": "stream",
          "text": [
            "['Unnamed: 0', '_id', 'text', 'task_1', 'task_2', 'inputs', 'task_2_cat']\n",
            "   Unnamed: 0                       _id  ... inputs task_2_cat\n",
            "0        4986  60c5d6bf5659ea5e55defa2c  ...      0          3\n",
            "1        3394  60c5d6bf5659ea5e55def461  ...      0          2\n",
            "2        1310  60c5d6bf5659ea5e55defaad  ...      1          1\n",
            "3        3390  60c5d6bf5659ea5e55def419  ...      0          2\n",
            "4        4626  60c5d6bf5659ea5e55def7fa  ...      0          2\n",
            "\n",
            "[5 rows x 7 columns]\n",
            "Train set: task_1\n",
            "HOF    1972\n",
            "NOT    1102\n",
            "Name: text, dtype: int64\n",
            "\n",
            "Test set: task_1\n",
            "HOF    529\n",
            "NOT    240\n",
            "Name: text, dtype: int64\n",
            "\n",
            "Neutral to offensive proportion in the train set: 0.56 and in the test set: 0.45\n"
          ],
          "name": "stdout"
        }
      ]
    },
    {
      "cell_type": "code",
      "metadata": {
        "colab": {
          "base_uri": "https://localhost:8080/",
          "height": 17
        },
        "id": "28YM1itcoS2l",
        "outputId": "c8df19df-e4f5-4df7-d60a-e42f0b41c2ae"
      },
      "source": [
        "#Optional. Save the files\n",
        "from google.colab import files\n",
        "\n",
        "if DOWNLOAD_DATASET:\n",
        "    train_df.to_csv('train.csv', index=False)\n",
        "    test_df.to_csv('validate.csv', index=False)\n",
        "\n",
        "    files.download('train.csv')\n",
        "    files.download('validate.csv')"
      ],
      "execution_count": 7,
      "outputs": [
        {
          "output_type": "display_data",
          "data": {
            "application/javascript": [
              "\n",
              "    async function download(id, filename, size) {\n",
              "      if (!google.colab.kernel.accessAllowed) {\n",
              "        return;\n",
              "      }\n",
              "      const div = document.createElement('div');\n",
              "      const label = document.createElement('label');\n",
              "      label.textContent = `Downloading \"${filename}\": `;\n",
              "      div.appendChild(label);\n",
              "      const progress = document.createElement('progress');\n",
              "      progress.max = size;\n",
              "      div.appendChild(progress);\n",
              "      document.body.appendChild(div);\n",
              "\n",
              "      const buffers = [];\n",
              "      let downloaded = 0;\n",
              "\n",
              "      const channel = await google.colab.kernel.comms.open(id);\n",
              "      // Send a message to notify the kernel that we're ready.\n",
              "      channel.send({})\n",
              "\n",
              "      for await (const message of channel.messages) {\n",
              "        // Send a message to notify the kernel that we're ready.\n",
              "        channel.send({})\n",
              "        if (message.buffers) {\n",
              "          for (const buffer of message.buffers) {\n",
              "            buffers.push(buffer);\n",
              "            downloaded += buffer.byteLength;\n",
              "            progress.value = downloaded;\n",
              "          }\n",
              "        }\n",
              "      }\n",
              "      const blob = new Blob(buffers, {type: 'application/binary'});\n",
              "      const a = document.createElement('a');\n",
              "      a.href = window.URL.createObjectURL(blob);\n",
              "      a.download = filename;\n",
              "      div.appendChild(a);\n",
              "      a.click();\n",
              "      div.remove();\n",
              "    }\n",
              "  "
            ],
            "text/plain": [
              "<IPython.core.display.Javascript object>"
            ]
          },
          "metadata": {
            "tags": []
          }
        },
        {
          "output_type": "display_data",
          "data": {
            "application/javascript": [
              "download(\"download_8464b7e9-2cc6-43f3-bffb-1c3abd2fd1bd\", \"train.csv\", 656685)"
            ],
            "text/plain": [
              "<IPython.core.display.Javascript object>"
            ]
          },
          "metadata": {
            "tags": []
          }
        },
        {
          "output_type": "display_data",
          "data": {
            "application/javascript": [
              "\n",
              "    async function download(id, filename, size) {\n",
              "      if (!google.colab.kernel.accessAllowed) {\n",
              "        return;\n",
              "      }\n",
              "      const div = document.createElement('div');\n",
              "      const label = document.createElement('label');\n",
              "      label.textContent = `Downloading \"${filename}\": `;\n",
              "      div.appendChild(label);\n",
              "      const progress = document.createElement('progress');\n",
              "      progress.max = size;\n",
              "      div.appendChild(progress);\n",
              "      document.body.appendChild(div);\n",
              "\n",
              "      const buffers = [];\n",
              "      let downloaded = 0;\n",
              "\n",
              "      const channel = await google.colab.kernel.comms.open(id);\n",
              "      // Send a message to notify the kernel that we're ready.\n",
              "      channel.send({})\n",
              "\n",
              "      for await (const message of channel.messages) {\n",
              "        // Send a message to notify the kernel that we're ready.\n",
              "        channel.send({})\n",
              "        if (message.buffers) {\n",
              "          for (const buffer of message.buffers) {\n",
              "            buffers.push(buffer);\n",
              "            downloaded += buffer.byteLength;\n",
              "            progress.value = downloaded;\n",
              "          }\n",
              "        }\n",
              "      }\n",
              "      const blob = new Blob(buffers, {type: 'application/binary'});\n",
              "      const a = document.createElement('a');\n",
              "      a.href = window.URL.createObjectURL(blob);\n",
              "      a.download = filename;\n",
              "      div.appendChild(a);\n",
              "      a.click();\n",
              "      div.remove();\n",
              "    }\n",
              "  "
            ],
            "text/plain": [
              "<IPython.core.display.Javascript object>"
            ]
          },
          "metadata": {
            "tags": []
          }
        },
        {
          "output_type": "display_data",
          "data": {
            "application/javascript": [
              "download(\"download_e39e65ca-82cd-47ac-8a57-f650a065263e\", \"validate.csv\", 166060)"
            ],
            "text/plain": [
              "<IPython.core.display.Javascript object>"
            ]
          },
          "metadata": {
            "tags": []
          }
        }
      ]
    },
    {
      "cell_type": "code",
      "metadata": {
        "id": "8EaVxXzlkezp"
      },
      "source": [
        "#copied from https://stackoverflow.com/questions/33404752/removing-emojis-from-a-string-in-python\n",
        "def remove_emojis(data):\n",
        "    emoj = re.compile(\"[\"\n",
        "        u\"\\U0001F600-\\U0001F64F\"  # emoticons\n",
        "        u\"\\U0001F300-\\U0001F5FF\"  # symbols & pictographs\n",
        "        u\"\\U0001F680-\\U0001F6FF\"  # transport & map symbols\n",
        "        u\"\\U0001F1E0-\\U0001F1FF\"  # flags (iOS)\n",
        "        u\"\\U00002500-\\U00002BEF\"  # chinese char\n",
        "        u\"\\U00002702-\\U000027B0\"\n",
        "        u\"\\U00002702-\\U000027B0\"\n",
        "        u\"\\U000024C2-\\U0001F251\"\n",
        "        u\"\\U0001f926-\\U0001f937\"\n",
        "        u\"\\U00010000-\\U0010ffff\"\n",
        "        u\"\\u2640-\\u2642\" \n",
        "        u\"\\u2600-\\u2B55\"\n",
        "        u\"\\u200d\"\n",
        "        u\"\\u23cf\"\n",
        "        u\"\\u23e9\"\n",
        "        u\"\\u231a\"\n",
        "        u\"\\ufe0f\"  # dingbats\n",
        "        u\"\\u3030\"\n",
        "                      \"]+\", re.UNICODE)\n",
        "    return re.sub(emoj, '', data)\n",
        "\n",
        "# copied from https://stackoverflow.com/questions/64719706/cleaning-twitter-data-pandas-python\n",
        "def cleaner(tweet):\n",
        "    tweet = re.sub(\"@[A-Za-z0-9]+\",\"\",tweet) #Remove @ sign\n",
        "    tweet = re.sub(r\"(?:\\@|http?\\://|https?\\://|www)\\S+\", \"\", tweet) #Remove http links\n",
        "    #tweet = ''.join(c for c in tweet if c not in emoji.UNICODE_EMOJI) #Remove Emojis\n",
        "    tweet = tweet.replace(\"#\", \"\").replace(\"_\", \" \") #Remove hashtag sign but keep the text\n",
        "    tweet = \" \".join(tweet.split())\n",
        "    tweet = remove_emojis(tweet)\n",
        "    #tweet = \" \".join(w for w in nltk.wordpunct_tokenize(tweet) \\\n",
        "    #     if w.lower() in words or not w.isalpha())\n",
        "    return tweet\n",
        "\n",
        "\n",
        "train_df, test_df = train_test_split(raw_dataset, test_size=0.2, random_state=seed)\n",
        "text = train_df.pop('text').map(lambda line: cleaner(line))\n",
        "label = train_df.pop('inputs')\n",
        "\n",
        "text_val = test_df.pop('text').map(lambda line: cleaner(line))\n",
        "label_val = test_df.pop('inputs')\n",
        "\n",
        "print(text[:5])"
      ],
      "execution_count": null,
      "outputs": []
    },
    {
      "cell_type": "code",
      "metadata": {
        "id": "V6juG8HSk_3n"
      },
      "source": [
        "train_ds = tf.data.Dataset.from_tensor_slices((text.values, label.values))\n",
        "val_ds = tf.data.Dataset.from_tensor_slices((text_val.values, label_val.values))\n",
        "\n",
        "train_ds = train_ds.batch(batch_size=batch_size, drop_remainder=True)\n",
        "val_ds = val_ds.batch(batch_size=batch_size, drop_remainder=True)"
      ],
      "execution_count": null,
      "outputs": []
    },
    {
      "cell_type": "markdown",
      "metadata": {
        "id": "TV3OIIxuk0o3"
      },
      "source": [
        "# Model preparation"
      ]
    },
    {
      "cell_type": "code",
      "metadata": {
        "id": "RgSnovVplEpo"
      },
      "source": [
        "!pip install -q -U tensorflow-text\n",
        "!pip install -q tf-models-official"
      ],
      "execution_count": null,
      "outputs": []
    }
  ]
}