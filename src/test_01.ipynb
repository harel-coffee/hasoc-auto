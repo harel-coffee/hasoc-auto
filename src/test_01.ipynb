{
  "nbformat": 4,
  "nbformat_minor": 0,
  "metadata": {
    "colab": {
      "name": "test_01.ipynb",
      "provenance": [],
      "collapsed_sections": [
        "AmN_xqNJ0d_v"
      ],
      "authorship_tag": "ABX9TyMyWt8kEfRadEayucFSTBZU",
      "include_colab_link": true
    },
    "kernelspec": {
      "name": "python3",
      "display_name": "Python 3"
    },
    "language_info": {
      "name": "python"
    }
  },
  "cells": [
    {
      "cell_type": "markdown",
      "metadata": {
        "id": "view-in-github",
        "colab_type": "text"
      },
      "source": [
        "<a href=\"https://colab.research.google.com/github/ixomaxip/nasoc/blob/master/src/test_01.ipynb\" target=\"_parent\"><img src=\"https://colab.research.google.com/assets/colab-badge.svg\" alt=\"Open In Colab\"/></a>"
      ]
    },
    {
      "cell_type": "code",
      "metadata": {
        "id": "0ivDWOXWxMNw"
      },
      "source": [
        "import numpy as np\n",
        "import pandas as pd\n",
        "\n",
        "from sklearn.model_selection import train_test_split\n",
        "\n",
        "import os\n",
        "import datetime\n",
        "\n",
        "import IPython\n",
        "import IPython.display\n",
        "import matplotlib as mpl\n",
        "import matplotlib.pyplot as plt\n",
        "import seaborn as sns\n",
        "import tensorflow as tf"
      ],
      "execution_count": 82,
      "outputs": []
    },
    {
      "cell_type": "code",
      "metadata": {
        "id": "Zwmrs801-zn0"
      },
      "source": [
        "seed = 42"
      ],
      "execution_count": 67,
      "outputs": []
    },
    {
      "cell_type": "markdown",
      "metadata": {
        "id": "E50_54xzy1-q"
      },
      "source": [
        "You can skip options one and two and go to the third one."
      ]
    },
    {
      "cell_type": "markdown",
      "metadata": {
        "id": "AmN_xqNJ0d_v"
      },
      "source": [
        "# Open the dataset from your local PC or GDrive"
      ]
    },
    {
      "cell_type": "code",
      "metadata": {
        "id": "aaIbIvKWipUq",
        "colab": {
          "resources": {
            "http://localhost:8080/nbextensions/google.colab/files.js": {
              "data": "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",
              "ok": true,
              "headers": [
                [
                  "content-type",
                  "application/javascript"
                ]
              ],
              "status": 200,
              "status_text": "OK"
            }
          },
          "base_uri": "https://localhost:8080/",
          "height": 91
        },
        "outputId": "308c8414-3268-4172-c3a4-51b180f2e919"
      },
      "source": [
        "# option (1) - load a file from your local PC\n",
        "from google.colab import files\n",
        "\n",
        "uploaded = files.upload()\n",
        "\n",
        "for fn in uploaded.keys():\n",
        "  print('User uploaded file \"{name}\" with length {length} bytes'.format(\n",
        "      name=fn, length=len(uploaded[fn])))\n",
        "  \n",
        "# the file content is here:\n",
        "rows = uploaded[\"en_Hasoc2021_train.csv\"]"
      ],
      "execution_count": null,
      "outputs": [
        {
          "output_type": "display_data",
          "data": {
            "text/html": [
              "\n",
              "     <input type=\"file\" id=\"files-a08aa9e8-6693-4bda-af30-162fc383175b\" name=\"files[]\" multiple disabled\n",
              "        style=\"border:none\" />\n",
              "     <output id=\"result-a08aa9e8-6693-4bda-af30-162fc383175b\">\n",
              "      Upload widget is only available when the cell has been executed in the\n",
              "      current browser session. Please rerun this cell to enable.\n",
              "      </output>\n",
              "      <script src=\"/nbextensions/google.colab/files.js\"></script> "
            ],
            "text/plain": [
              "<IPython.core.display.HTML object>"
            ]
          },
          "metadata": {
            "tags": []
          }
        },
        {
          "output_type": "stream",
          "text": [
            "Saving en_Hasoc2021_train.csv to en_Hasoc2021_train (2).csv\n",
            "User uploaded file \"en_Hasoc2021_train.csv\" with length 807293 bytes\n"
          ],
          "name": "stdout"
        }
      ]
    },
    {
      "cell_type": "code",
      "metadata": {
        "id": "CsTNwOCptEPS",
        "colab": {
          "base_uri": "https://localhost:8080/",
          "height": 424
        },
        "outputId": "887e700f-a407-41b8-a322-acc5fa5c2594"
      },
      "source": [
        "import io\n",
        "#lines = rows.decode(\"utf-8\")\n",
        "pd.read_csv(io.BytesIO(rows)) #io.StringIO(lines))"
      ],
      "execution_count": null,
      "outputs": [
        {
          "output_type": "execute_result",
          "data": {
            "text/html": [
              "<div>\n",
              "<style scoped>\n",
              "    .dataframe tbody tr th:only-of-type {\n",
              "        vertical-align: middle;\n",
              "    }\n",
              "\n",
              "    .dataframe tbody tr th {\n",
              "        vertical-align: top;\n",
              "    }\n",
              "\n",
              "    .dataframe thead th {\n",
              "        text-align: right;\n",
              "    }\n",
              "</style>\n",
              "<table border=\"1\" class=\"dataframe\">\n",
              "  <thead>\n",
              "    <tr style=\"text-align: right;\">\n",
              "      <th></th>\n",
              "      <th>Unnamed: 0</th>\n",
              "      <th>_id</th>\n",
              "      <th>text</th>\n",
              "      <th>task_1</th>\n",
              "      <th>task_2</th>\n",
              "    </tr>\n",
              "  </thead>\n",
              "  <tbody>\n",
              "    <tr>\n",
              "      <th>0</th>\n",
              "      <td>4986</td>\n",
              "      <td>60c5d6bf5659ea5e55defa2c</td>\n",
              "      <td>@wealth if you made it through this &amp;amp;&amp;amp;...</td>\n",
              "      <td>HOF</td>\n",
              "      <td>PRFN</td>\n",
              "    </tr>\n",
              "    <tr>\n",
              "      <th>1</th>\n",
              "      <td>3394</td>\n",
              "      <td>60c5d6bf5659ea5e55def461</td>\n",
              "      <td>Technically that's still turning back the cloc...</td>\n",
              "      <td>HOF</td>\n",
              "      <td>OFFN</td>\n",
              "    </tr>\n",
              "    <tr>\n",
              "      <th>2</th>\n",
              "      <td>1310</td>\n",
              "      <td>60c5d6bf5659ea5e55defaad</td>\n",
              "      <td>@VMBJP @BJP4Bengal @BJP4India @narendramodi @J...</td>\n",
              "      <td>NOT</td>\n",
              "      <td>NONE</td>\n",
              "    </tr>\n",
              "    <tr>\n",
              "      <th>3</th>\n",
              "      <td>3390</td>\n",
              "      <td>60c5d6bf5659ea5e55def419</td>\n",
              "      <td>@krtoprak_yigit Soldier of Japan Who has dick ...</td>\n",
              "      <td>HOF</td>\n",
              "      <td>OFFN</td>\n",
              "    </tr>\n",
              "    <tr>\n",
              "      <th>4</th>\n",
              "      <td>4626</td>\n",
              "      <td>60c5d6bf5659ea5e55def7fa</td>\n",
              "      <td>@blueheartedly You'd be better off asking who ...</td>\n",
              "      <td>HOF</td>\n",
              "      <td>OFFN</td>\n",
              "    </tr>\n",
              "    <tr>\n",
              "      <th>...</th>\n",
              "      <td>...</td>\n",
              "      <td>...</td>\n",
              "      <td>...</td>\n",
              "      <td>...</td>\n",
              "      <td>...</td>\n",
              "    </tr>\n",
              "    <tr>\n",
              "      <th>3838</th>\n",
              "      <td>1661</td>\n",
              "      <td>60c5d6bf5659ea5e55defd57</td>\n",
              "      <td>@BBCNews Let the dog deal with the wanker once...</td>\n",
              "      <td>HOF</td>\n",
              "      <td>PRFN</td>\n",
              "    </tr>\n",
              "    <tr>\n",
              "      <th>3839</th>\n",
              "      <td>194</td>\n",
              "      <td>60c5d6bf5659ea5e55def185</td>\n",
              "      <td>India has suffered a lot. That Chinese bastard...</td>\n",
              "      <td>HOF</td>\n",
              "      <td>HATE</td>\n",
              "    </tr>\n",
              "    <tr>\n",
              "      <th>3840</th>\n",
              "      <td>3988</td>\n",
              "      <td>60c5d6bf5659ea5e55def78c</td>\n",
              "      <td>People didn't give 300+ seats majority to BJP ...</td>\n",
              "      <td>HOF</td>\n",
              "      <td>HATE</td>\n",
              "    </tr>\n",
              "    <tr>\n",
              "      <th>3841</th>\n",
              "      <td>4212</td>\n",
              "      <td>60c5d6bf5659ea5e55defb04</td>\n",
              "      <td>@KanganaTeam This is such a vile, xenophobic a...</td>\n",
              "      <td>HOF</td>\n",
              "      <td>PRFN</td>\n",
              "    </tr>\n",
              "    <tr>\n",
              "      <th>3842</th>\n",
              "      <td>1512</td>\n",
              "      <td>60c5d6bf5659ea5e55defb8a</td>\n",
              "      <td>@30iPpgStmILw0SI @ChinaDaily #ChineseVirus #Wu...</td>\n",
              "      <td>NOT</td>\n",
              "      <td>NONE</td>\n",
              "    </tr>\n",
              "  </tbody>\n",
              "</table>\n",
              "<p>3843 rows × 5 columns</p>\n",
              "</div>"
            ],
            "text/plain": [
              "      Unnamed: 0                       _id  ... task_1 task_2\n",
              "0           4986  60c5d6bf5659ea5e55defa2c  ...    HOF   PRFN\n",
              "1           3394  60c5d6bf5659ea5e55def461  ...    HOF   OFFN\n",
              "2           1310  60c5d6bf5659ea5e55defaad  ...    NOT   NONE\n",
              "3           3390  60c5d6bf5659ea5e55def419  ...    HOF   OFFN\n",
              "4           4626  60c5d6bf5659ea5e55def7fa  ...    HOF   OFFN\n",
              "...          ...                       ...  ...    ...    ...\n",
              "3838        1661  60c5d6bf5659ea5e55defd57  ...    HOF   PRFN\n",
              "3839         194  60c5d6bf5659ea5e55def185  ...    HOF   HATE\n",
              "3840        3988  60c5d6bf5659ea5e55def78c  ...    HOF   HATE\n",
              "3841        4212  60c5d6bf5659ea5e55defb04  ...    HOF   PRFN\n",
              "3842        1512  60c5d6bf5659ea5e55defb8a  ...    NOT   NONE\n",
              "\n",
              "[3843 rows x 5 columns]"
            ]
          },
          "metadata": {
            "tags": []
          },
          "execution_count": 19
        }
      ]
    },
    {
      "cell_type": "code",
      "metadata": {
        "id": "B7N-VCKIsMiP",
        "colab": {
          "base_uri": "https://localhost:8080/",
          "height": 441
        },
        "outputId": "54a6dba0-60cb-46b9-9f0c-c1ab40214494"
      },
      "source": [
        "#option (2) - load a file from GDrive\n",
        "from google.colab import drive\n",
        "drive.mount('/content/drive')\n",
        "\n",
        "path_gdrive = '/content/drive/My Drive/nasoc/en_Hasoc2021_train.csv'\n",
        "#with open(path_gdrive, 'r') as f:\n",
        "#  print(f.read())\n",
        "\n",
        "pd.read_csv(path_gdrive)"
      ],
      "execution_count": null,
      "outputs": [
        {
          "output_type": "stream",
          "text": [
            "Drive already mounted at /content/drive; to attempt to forcibly remount, call drive.mount(\"/content/drive\", force_remount=True).\n"
          ],
          "name": "stdout"
        },
        {
          "output_type": "execute_result",
          "data": {
            "text/html": [
              "<div>\n",
              "<style scoped>\n",
              "    .dataframe tbody tr th:only-of-type {\n",
              "        vertical-align: middle;\n",
              "    }\n",
              "\n",
              "    .dataframe tbody tr th {\n",
              "        vertical-align: top;\n",
              "    }\n",
              "\n",
              "    .dataframe thead th {\n",
              "        text-align: right;\n",
              "    }\n",
              "</style>\n",
              "<table border=\"1\" class=\"dataframe\">\n",
              "  <thead>\n",
              "    <tr style=\"text-align: right;\">\n",
              "      <th></th>\n",
              "      <th>Unnamed: 0</th>\n",
              "      <th>_id</th>\n",
              "      <th>text</th>\n",
              "      <th>task_1</th>\n",
              "      <th>task_2</th>\n",
              "    </tr>\n",
              "  </thead>\n",
              "  <tbody>\n",
              "    <tr>\n",
              "      <th>0</th>\n",
              "      <td>4986</td>\n",
              "      <td>60c5d6bf5659ea5e55defa2c</td>\n",
              "      <td>@wealth if you made it through this &amp;amp;&amp;amp;...</td>\n",
              "      <td>HOF</td>\n",
              "      <td>PRFN</td>\n",
              "    </tr>\n",
              "    <tr>\n",
              "      <th>1</th>\n",
              "      <td>3394</td>\n",
              "      <td>60c5d6bf5659ea5e55def461</td>\n",
              "      <td>Technically that's still turning back the cloc...</td>\n",
              "      <td>HOF</td>\n",
              "      <td>OFFN</td>\n",
              "    </tr>\n",
              "    <tr>\n",
              "      <th>2</th>\n",
              "      <td>1310</td>\n",
              "      <td>60c5d6bf5659ea5e55defaad</td>\n",
              "      <td>@VMBJP @BJP4Bengal @BJP4India @narendramodi @J...</td>\n",
              "      <td>NOT</td>\n",
              "      <td>NONE</td>\n",
              "    </tr>\n",
              "    <tr>\n",
              "      <th>3</th>\n",
              "      <td>3390</td>\n",
              "      <td>60c5d6bf5659ea5e55def419</td>\n",
              "      <td>@krtoprak_yigit Soldier of Japan Who has dick ...</td>\n",
              "      <td>HOF</td>\n",
              "      <td>OFFN</td>\n",
              "    </tr>\n",
              "    <tr>\n",
              "      <th>4</th>\n",
              "      <td>4626</td>\n",
              "      <td>60c5d6bf5659ea5e55def7fa</td>\n",
              "      <td>@blueheartedly You'd be better off asking who ...</td>\n",
              "      <td>HOF</td>\n",
              "      <td>OFFN</td>\n",
              "    </tr>\n",
              "    <tr>\n",
              "      <th>...</th>\n",
              "      <td>...</td>\n",
              "      <td>...</td>\n",
              "      <td>...</td>\n",
              "      <td>...</td>\n",
              "      <td>...</td>\n",
              "    </tr>\n",
              "    <tr>\n",
              "      <th>3838</th>\n",
              "      <td>1661</td>\n",
              "      <td>60c5d6bf5659ea5e55defd57</td>\n",
              "      <td>@BBCNews Let the dog deal with the wanker once...</td>\n",
              "      <td>HOF</td>\n",
              "      <td>PRFN</td>\n",
              "    </tr>\n",
              "    <tr>\n",
              "      <th>3839</th>\n",
              "      <td>194</td>\n",
              "      <td>60c5d6bf5659ea5e55def185</td>\n",
              "      <td>India has suffered a lot. That Chinese bastard...</td>\n",
              "      <td>HOF</td>\n",
              "      <td>HATE</td>\n",
              "    </tr>\n",
              "    <tr>\n",
              "      <th>3840</th>\n",
              "      <td>3988</td>\n",
              "      <td>60c5d6bf5659ea5e55def78c</td>\n",
              "      <td>People didn't give 300+ seats majority to BJP ...</td>\n",
              "      <td>HOF</td>\n",
              "      <td>HATE</td>\n",
              "    </tr>\n",
              "    <tr>\n",
              "      <th>3841</th>\n",
              "      <td>4212</td>\n",
              "      <td>60c5d6bf5659ea5e55defb04</td>\n",
              "      <td>@KanganaTeam This is such a vile, xenophobic a...</td>\n",
              "      <td>HOF</td>\n",
              "      <td>PRFN</td>\n",
              "    </tr>\n",
              "    <tr>\n",
              "      <th>3842</th>\n",
              "      <td>1512</td>\n",
              "      <td>60c5d6bf5659ea5e55defb8a</td>\n",
              "      <td>@30iPpgStmILw0SI @ChinaDaily #ChineseVirus #Wu...</td>\n",
              "      <td>NOT</td>\n",
              "      <td>NONE</td>\n",
              "    </tr>\n",
              "  </tbody>\n",
              "</table>\n",
              "<p>3843 rows × 5 columns</p>\n",
              "</div>"
            ],
            "text/plain": [
              "      Unnamed: 0                       _id  ... task_1 task_2\n",
              "0           4986  60c5d6bf5659ea5e55defa2c  ...    HOF   PRFN\n",
              "1           3394  60c5d6bf5659ea5e55def461  ...    HOF   OFFN\n",
              "2           1310  60c5d6bf5659ea5e55defaad  ...    NOT   NONE\n",
              "3           3390  60c5d6bf5659ea5e55def419  ...    HOF   OFFN\n",
              "4           4626  60c5d6bf5659ea5e55def7fa  ...    HOF   OFFN\n",
              "...          ...                       ...  ...    ...    ...\n",
              "3838        1661  60c5d6bf5659ea5e55defd57  ...    HOF   PRFN\n",
              "3839         194  60c5d6bf5659ea5e55def185  ...    HOF   HATE\n",
              "3840        3988  60c5d6bf5659ea5e55def78c  ...    HOF   HATE\n",
              "3841        4212  60c5d6bf5659ea5e55defb04  ...    HOF   PRFN\n",
              "3842        1512  60c5d6bf5659ea5e55defb8a  ...    NOT   NONE\n",
              "\n",
              "[3843 rows x 5 columns]"
            ]
          },
          "metadata": {
            "tags": []
          },
          "execution_count": 23
        }
      ]
    },
    {
      "cell_type": "markdown",
      "metadata": {
        "id": "smqmkhhb0ZMO"
      },
      "source": [
        ""
      ]
    },
    {
      "cell_type": "markdown",
      "metadata": {
        "id": "kLAaTWDW0izn"
      },
      "source": [
        "# Download and unzip"
      ]
    },
    {
      "cell_type": "markdown",
      "metadata": {
        "id": "ghzYbLo4_VGP"
      },
      "source": [
        "## Download file"
      ]
    },
    {
      "cell_type": "code",
      "metadata": {
        "id": "04R0HvGkvZJb",
        "colab": {
          "base_uri": "https://localhost:8080/"
        },
        "outputId": "d268a79b-b61e-4f02-b55f-3ca2d8e4ead1"
      },
      "source": [
        "#option (3) - download it, since we are brave enough to store the password here :)\n",
        "!wget https://hasocfire.github.io/hasoc/2021/files/en_Hasoc2021_train.zip\n",
        "!unzip -P hasoc2021_en en_Hasoc2021_train.zip\n",
        "!ls"
      ],
      "execution_count": 1,
      "outputs": [
        {
          "output_type": "stream",
          "text": [
            "--2021-08-03 20:51:57--  https://hasocfire.github.io/hasoc/2021/files/en_Hasoc2021_train.zip\n",
            "Resolving hasocfire.github.io (hasocfire.github.io)... 185.199.108.153, 185.199.109.153, 185.199.110.153, ...\n",
            "Connecting to hasocfire.github.io (hasocfire.github.io)|185.199.108.153|:443... connected.\n",
            "HTTP request sent, awaiting response... 200 OK\n",
            "Length: 330206 (322K) [application/zip]\n",
            "Saving to: ‘en_Hasoc2021_train.zip’\n",
            "\n",
            "\ren_Hasoc2021_train.   0%[                    ]       0  --.-KB/s               \ren_Hasoc2021_train. 100%[===================>] 322.47K  --.-KB/s    in 0.03s   \n",
            "\n",
            "2021-08-03 20:51:57 (9.65 MB/s) - ‘en_Hasoc2021_train.zip’ saved [330206/330206]\n",
            "\n",
            "Archive:  en_Hasoc2021_train.zip\n",
            "  inflating: en_Hasoc2021_train.csv  \n",
            "en_Hasoc2021_train.csv\ten_Hasoc2021_train.zip\tsample_data\n"
          ],
          "name": "stdout"
        }
      ]
    },
    {
      "cell_type": "markdown",
      "metadata": {
        "id": "y2sdRiHV_d8U"
      },
      "source": [
        "## EDA (sort of)"
      ]
    },
    {
      "cell_type": "code",
      "metadata": {
        "id": "q3FMlEqWyB7c",
        "colab": {
          "base_uri": "https://localhost:8080/",
          "height": 206
        },
        "outputId": "c8f68f5f-4591-40f4-9c76-a8c7f770f024"
      },
      "source": [
        "raw_dataset = pd.read_csv('en_Hasoc2021_train.csv')\n",
        "ds_head = raw_dataset.head()\n",
        "\n",
        "ds_head"
      ],
      "execution_count": 11,
      "outputs": [
        {
          "output_type": "execute_result",
          "data": {
            "text/html": [
              "<div>\n",
              "<style scoped>\n",
              "    .dataframe tbody tr th:only-of-type {\n",
              "        vertical-align: middle;\n",
              "    }\n",
              "\n",
              "    .dataframe tbody tr th {\n",
              "        vertical-align: top;\n",
              "    }\n",
              "\n",
              "    .dataframe thead th {\n",
              "        text-align: right;\n",
              "    }\n",
              "</style>\n",
              "<table border=\"1\" class=\"dataframe\">\n",
              "  <thead>\n",
              "    <tr style=\"text-align: right;\">\n",
              "      <th></th>\n",
              "      <th>Unnamed: 0</th>\n",
              "      <th>_id</th>\n",
              "      <th>text</th>\n",
              "      <th>task_1</th>\n",
              "      <th>task_2</th>\n",
              "    </tr>\n",
              "  </thead>\n",
              "  <tbody>\n",
              "    <tr>\n",
              "      <th>0</th>\n",
              "      <td>4986</td>\n",
              "      <td>60c5d6bf5659ea5e55defa2c</td>\n",
              "      <td>@wealth if you made it through this &amp;amp;&amp;amp;...</td>\n",
              "      <td>HOF</td>\n",
              "      <td>PRFN</td>\n",
              "    </tr>\n",
              "    <tr>\n",
              "      <th>1</th>\n",
              "      <td>3394</td>\n",
              "      <td>60c5d6bf5659ea5e55def461</td>\n",
              "      <td>Technically that's still turning back the cloc...</td>\n",
              "      <td>HOF</td>\n",
              "      <td>OFFN</td>\n",
              "    </tr>\n",
              "    <tr>\n",
              "      <th>2</th>\n",
              "      <td>1310</td>\n",
              "      <td>60c5d6bf5659ea5e55defaad</td>\n",
              "      <td>@VMBJP @BJP4Bengal @BJP4India @narendramodi @J...</td>\n",
              "      <td>NOT</td>\n",
              "      <td>NONE</td>\n",
              "    </tr>\n",
              "    <tr>\n",
              "      <th>3</th>\n",
              "      <td>3390</td>\n",
              "      <td>60c5d6bf5659ea5e55def419</td>\n",
              "      <td>@krtoprak_yigit Soldier of Japan Who has dick ...</td>\n",
              "      <td>HOF</td>\n",
              "      <td>OFFN</td>\n",
              "    </tr>\n",
              "    <tr>\n",
              "      <th>4</th>\n",
              "      <td>4626</td>\n",
              "      <td>60c5d6bf5659ea5e55def7fa</td>\n",
              "      <td>@blueheartedly You'd be better off asking who ...</td>\n",
              "      <td>HOF</td>\n",
              "      <td>OFFN</td>\n",
              "    </tr>\n",
              "  </tbody>\n",
              "</table>\n",
              "</div>"
            ],
            "text/plain": [
              "   Unnamed: 0                       _id  ... task_1 task_2\n",
              "0        4986  60c5d6bf5659ea5e55defa2c  ...    HOF   PRFN\n",
              "1        3394  60c5d6bf5659ea5e55def461  ...    HOF   OFFN\n",
              "2        1310  60c5d6bf5659ea5e55defaad  ...    NOT   NONE\n",
              "3        3390  60c5d6bf5659ea5e55def419  ...    HOF   OFFN\n",
              "4        4626  60c5d6bf5659ea5e55def7fa  ...    HOF   OFFN\n",
              "\n",
              "[5 rows x 5 columns]"
            ]
          },
          "metadata": {
            "tags": []
          },
          "execution_count": 11
        }
      ]
    },
    {
      "cell_type": "code",
      "metadata": {
        "colab": {
          "base_uri": "https://localhost:8080/"
        },
        "id": "6ii1Cmj90SCV",
        "outputId": "df07b461-d2a0-48cf-b64b-bba22af0da44"
      },
      "source": [
        "print(list(raw_dataset.columns.values.tolist()))"
      ],
      "execution_count": 35,
      "outputs": [
        {
          "output_type": "stream",
          "text": [
            "['Unnamed: 0', '_id', 'text', 'task_1', 'task_2']\n"
          ],
          "name": "stdout"
        }
      ]
    },
    {
      "cell_type": "code",
      "metadata": {
        "colab": {
          "base_uri": "https://localhost:8080/",
          "height": 308
        },
        "id": "ZVtCMrND1VjH",
        "outputId": "b96c26c5-142d-4b1f-f637-b74e953de527"
      },
      "source": [
        "raw_dataset.groupby('task_1').count()['text'].plot.bar()"
      ],
      "execution_count": 48,
      "outputs": [
        {
          "output_type": "execute_result",
          "data": {
            "text/plain": [
              "<matplotlib.axes._subplots.AxesSubplot at 0x7f472b8107d0>"
            ]
          },
          "metadata": {
            "tags": []
          },
          "execution_count": 48
        },
        {
          "output_type": "display_data",
          "data": {
            "image/png": "[encoded data removed]",
            "text/plain": [
              "<Figure size 432x288 with 1 Axes>"
            ]
          },
          "metadata": {
            "tags": [],
            "needs_background": "light"
          }
        }
      ]
    },
    {
      "cell_type": "code",
      "metadata": {
        "colab": {
          "base_uri": "https://localhost:8080/",
          "height": 351
        },
        "id": "WloA7jKC3JpQ",
        "outputId": "857febfb-0876-4cc6-c904-550cb2f902d8"
      },
      "source": [
        "raw_dataset.hist(by='task_1', column='task_2')"
      ],
      "execution_count": 46,
      "outputs": [
        {
          "output_type": "execute_result",
          "data": {
            "text/plain": [
              "array([<matplotlib.axes._subplots.AxesSubplot object at 0x7f472b946fd0>,\n",
              "       <matplotlib.axes._subplots.AxesSubplot object at 0x7f472b8dbc10>],\n",
              "      dtype=object)"
            ]
          },
          "metadata": {
            "tags": []
          },
          "execution_count": 46
        },
        {
          "output_type": "display_data",
          "data": {
            "image/png": "[encoded data removed]",
            "text/plain": [
              "<Figure size 432x288 with 2 Axes>"
            ]
          },
          "metadata": {
            "tags": [],
            "needs_background": "light"
          }
        }
      ]
    },
    {
      "cell_type": "markdown",
      "metadata": {
        "id": "k_1TvniE_qZc"
      },
      "source": [
        "## Data split"
      ]
    },
    {
      "cell_type": "code",
      "metadata": {
        "colab": {
          "base_uri": "https://localhost:8080/"
        },
        "id": "ehQjf-gs5TZk",
        "outputId": "39f74da3-fe2f-48be-d845-6b1f94d4ed4b"
      },
      "source": [
        "raw_dataset['task_1_cat'] = pd.Categorical(raw_dataset['task_1'])\n",
        "raw_dataset['task_1_cat'] = raw_dataset.task_1_cat.cat.codes\n",
        "\n",
        "raw_dataset['task_2_cat'] = pd.Categorical(raw_dataset['task_2'])\n",
        "raw_dataset['task_2_cat'] = raw_dataset.task_2_cat.cat.codes\n",
        "\n",
        "print(list(raw_dataset.columns.values.tolist()))\n",
        "print(raw_dataset.head())\n",
        "\n",
        "train_df, test_df = train_test_split(raw_dataset, test_size=0.2, random_state=seed)\n",
        "\n",
        "sr_train = train_df.groupby('task_1').count()['text']\n",
        "sr_test  = test_df.groupby('task_1').count()['text']\n",
        "\n",
        "tr_pr = sr_train['NOT']/sr_train['HOF']\n",
        "ts_pr = sr_test['NOT']/sr_test['HOF']\n",
        "\n",
        "print(f\"Train set: {sr_train}\\n\\nTest set: {sr_test}\\n\\nNeutral to offensive proportion in the train set: {tr_pr:.2f} and in the test set: {ts_pr:.2f}\")"
      ],
      "execution_count": 104,
      "outputs": [
        {
          "output_type": "stream",
          "text": [
            "['Unnamed: 0', '_id', 'text', 'task_1', 'task_2', 'task_1_cat', 'task_2_cat']\n",
            "   Unnamed: 0                       _id  ... task_1_cat task_2_cat\n",
            "0        4986  60c5d6bf5659ea5e55defa2c  ...          0          3\n",
            "1        3394  60c5d6bf5659ea5e55def461  ...          0          2\n",
            "2        1310  60c5d6bf5659ea5e55defaad  ...          1          1\n",
            "3        3390  60c5d6bf5659ea5e55def419  ...          0          2\n",
            "4        4626  60c5d6bf5659ea5e55def7fa  ...          0          2\n",
            "\n",
            "[5 rows x 7 columns]\n",
            "Train set: task_1\n",
            "HOF    1972\n",
            "NOT    1102\n",
            "Name: text, dtype: int64\n",
            "\n",
            "Test set: task_1\n",
            "HOF    529\n",
            "NOT    240\n",
            "Name: text, dtype: int64\n",
            "\n",
            "Neutral to offensive proportion in the train set: 0.56 and in the test set: 0.45\n"
          ],
          "name": "stdout"
        }
      ]
    },
    {
      "cell_type": "code",
      "metadata": {
        "colab": {
          "base_uri": "https://localhost:8080/"
        },
        "id": "GPCBWao8ntmf",
        "outputId": "3515329e-3b0d-4a4f-ebd9-6c4c5784281e"
      },
      "source": [
        "import re\n",
        "\n",
        "pd.set_option('display.max_colwidth', -1)\n",
        "\n",
        "#copied from https://stackoverflow.com/questions/33404752/removing-emojis-from-a-string-in-python\n",
        "def remove_emojis(data):\n",
        "    emoj = re.compile(\"[\"\n",
        "        u\"\\U0001F600-\\U0001F64F\"  # emoticons\n",
        "        u\"\\U0001F300-\\U0001F5FF\"  # symbols & pictographs\n",
        "        u\"\\U0001F680-\\U0001F6FF\"  # transport & map symbols\n",
        "        u\"\\U0001F1E0-\\U0001F1FF\"  # flags (iOS)\n",
        "        u\"\\U00002500-\\U00002BEF\"  # chinese char\n",
        "        u\"\\U00002702-\\U000027B0\"\n",
        "        u\"\\U00002702-\\U000027B0\"\n",
        "        u\"\\U000024C2-\\U0001F251\"\n",
        "        u\"\\U0001f926-\\U0001f937\"\n",
        "        u\"\\U00010000-\\U0010ffff\"\n",
        "        u\"\\u2640-\\u2642\" \n",
        "        u\"\\u2600-\\u2B55\"\n",
        "        u\"\\u200d\"\n",
        "        u\"\\u23cf\"\n",
        "        u\"\\u23e9\"\n",
        "        u\"\\u231a\"\n",
        "        u\"\\ufe0f\"  # dingbats\n",
        "        u\"\\u3030\"\n",
        "                      \"]+\", re.UNICODE)\n",
        "    return re.sub(emoj, '', data)\n",
        "\n",
        "# copied from https://stackoverflow.com/questions/64719706/cleaning-twitter-data-pandas-python\n",
        "def cleaner(tweet):\n",
        "    tweet = re.sub(\"@[A-Za-z0-9]+\",\"\",tweet) #Remove @ sign\n",
        "    tweet = re.sub(r\"(?:\\@|http?\\://|https?\\://|www)\\S+\", \"\", tweet) #Remove http links\n",
        "    #tweet = \" \".join(tweet.split())\n",
        "    #tweet = ''.join(c for c in tweet if c not in emoji.UNICODE_EMOJI) #Remove Emojis\n",
        "    tweet = tweet.replace(\"#\", \"\").replace(\"_\", \" \") #Remove hashtag sign but keep the text\n",
        "    tweet = remove_emojis(tweet)\n",
        "    #tweet = \" \".join(w for w in nltk.wordpunct_tokenize(tweet) \\\n",
        "    #     if w.lower() in words or not w.isalpha())\n",
        "    return tweet\n",
        "\n",
        "\n",
        "train_df, test_df = train_test_split(raw_dataset, test_size=0.2, random_state=seed)\n",
        "text = train_df.pop('text').map(lambda line: cleaner(line))\n",
        "\n",
        "label = train_df.pop('task_1_cat')\n",
        "\n",
        "print(text[:30])"
      ],
      "execution_count": 138,
      "outputs": [
        {
          "output_type": "stream",
          "text": [
            "1972     Fucker Too bad I'm a dummy not an idiots                                                                                                                                                                                                                                  \n",
            "3374    I urge every Indian to act on this, I urge the unsold media     to act on this. Rage a war for democracy. We really need a voice, people are dying. Please raise your voice EnoughIsEnough BJPFailsIndia ModiResign ModiKaVaccineJumla                                     \n",
            "2424     trying to call with my bloody wife but you're wifi is being a bitch optus on deez nuts                                                                                                                                                                                    \n",
            "433     My president is a pussy, he blocks he's comment section..hahaha.. who does that ?                                                                                                                                                                                          \n",
            "816     KanganaRanaut has placed this request &amp; it is the request every sane person in India is vouching for. Pls act  ji...Stop appeasing ! BengalBurning                                                                                                                     \n",
            "371     We aren't opposing BJP, we're only criticizing them because we don't want to loss lives of Hindus in Bengal violence ..  SpinelessBJP isupportmodi Modi BJP Shamemamatabannerjee tmcgoons ShameOnMamata ArrestMamata BengalBurning BengalViolence TMCTerror                \n",
            "3582     king   If he didn’t wanna be in it, he could put his hand over the lens and say piss off lads. He’s not the shy retiring type that won’t say what he’s thinking is he? He was loving the screen time until he saw the movie afterwards                                    \n",
            "3500    100% Vaxxed. 0 Side Effects. 100% Still That Bitch. GetVaccinated TeamPfizer CovidVaccine                                                                                                                                                                                  \n",
            "839     Buzzing to be rapping this cunt all summer long after England win the euros                                                                                                                                                                                                \n",
            "700        Huh Mr Fox? Kyrie is a privileged black athlete and he attacked an innocent, iconic Celtics logo by stomping on it with his foot. Does that make him racist against Irish people or just an asshole?  whatâ                                                             \n",
            "1491       they have to build there trust so he can open up in interrogation . 100% none of those cops wanted to be nice to the guy who did those crimes but if you piss them off it’s harder to make them talk                                                                    \n",
            "644     I agree. The fishing pole looks funðð that shitbag doesnât look like funð¬ð¬ð¬ð¬ð¬                                                                                                                                                                       \n",
            "1670      That's very sad...seen him in advertisements, TV serials... How many valuable lives have been taken away by this wretched ChineseVirus  Om Shanti                                                                                                                        \n",
            "3279    Revolt Now I repeat Revolt Now, Against the Govt. or So Called System. Otherwise We will keep losing our Loved Ones. They have failed us on every Front. CovidIndia IndiaCovidCrisis RevolutionNow                                                                         \n",
            "2369    Man, if only there was a state agency that already had access to everyone's bank account? Like some kind of South African IRS? Wouldn't that just be the dog's bollocks.                                                                                                   \n",
            "1507    This man is more dangerous than ChineseVirus WuhanVirus.                                                                                                                                                                                                                   \n",
            "2637    He don't deserve to be the PM of India ModiKaVaccineJumla                                                                                                                                                                                                                  \n",
            "2320     You son of a bitch.                                                                                                                                                                                                                                                       \n",
            "3449       Shits weird on here man I called somone (jokingly) a motherfucker and I got a weird warning âare you sure you want to tweet that?â Tha fuck?                                                                                                                        \n",
            "246     this might piss off the homophobes in my town but I DONT CARE BECAUSE ITS PRIDE MONTH                                                                                                                                                                                      \n",
            "893      Shame on people who are still supporting her... including Manorama. keeping MUM ArrestMamata BengalBurning BengalViolence                                                                                                                                                 \n",
            "734     Dear Dr  -- Shut the fuck up... You ChinesePuppet... Get some real news regarding this ChineseVirus..                                                                                                                                                                      \n",
            "505     Quite weird how our beloved leftist and liberals are maintaining complete silence on what is happening in Bengal right now. That's why they had been called hypocrite! BengalViolence BengalBurning                                                                        \n",
            "1674     Bjp has failed the nation. Modi has failed the nation. Biggest scam of history is PM care fund.   ModiKaVaccineJumla ModiMustResign ModiResignOrRepeal ModiMadeDisaster ModiGovtSeNaHoPayega                                                                              \n",
            "1025     whole world is suffering from bloody ChineseVirus                                                                                                                                                                                                                         \n",
            "1623    In search of gold we lost a diamond  JusticeForShahabuddin                                                                                                                                                                                                                 \n",
            "3309    Now if you think that Bully behaves hurtfully out of fear, and you feel compelled to offer friendship, that's awesome.  If it turns out Bully hurts people cause they like it, you really do have an ethical obligation to your community to set that motherfucker on fire.\n",
            "1474    Terrible situation. Badly handled ? No Gov. in World can cope with such disaster in what appears like a mutant WuhanVirus new attack from CCP to punish India for not kowtowing to China dictatorship in GalwanClash.                                                      \n",
            "3542    Am I wrong If I say islamophobia is real!!!!                                                                                                                                                                                                                               \n",
            "108     When someone dies, we always had the liberty to blame God for taking away our dear one ! Now the irony of India is we can't even blame NarendraModi for his impaired vision . COVID19 Resign PM Modi                                                                       \n",
            "Name: text, dtype: object\n"
          ],
          "name": "stdout"
        },
        {
          "output_type": "stream",
          "text": [
            "/usr/local/lib/python3.7/dist-packages/ipykernel_launcher.py:3: FutureWarning: Passing a negative integer is deprecated in version 1.0 and will not be supported in future version. Instead, use None to not limit the column width.\n",
            "  This is separate from the ipykernel package so we can avoid doing imports until\n"
          ],
          "name": "stderr"
        }
      ]
    },
    {
      "cell_type": "markdown",
      "metadata": {
        "id": "qxbHYqr8_J9e"
      },
      "source": [
        "# Baseline BERT"
      ]
    },
    {
      "cell_type": "code",
      "metadata": {
        "colab": {
          "base_uri": "https://localhost:8080/"
        },
        "id": "JosfgWH4_mH-",
        "outputId": "02a797ea-3193-4c86-e1c5-ce6071e73c5e"
      },
      "source": [
        "!pip install -q -U tensorflow-text"
      ],
      "execution_count": 68,
      "outputs": [
        {
          "output_type": "stream",
          "text": [
            "\u001b[K     |████████████████████████████████| 4.3 MB 5.1 MB/s \n",
            "\u001b[?25h"
          ],
          "name": "stdout"
        }
      ]
    },
    {
      "cell_type": "code",
      "metadata": {
        "colab": {
          "base_uri": "https://localhost:8080/"
        },
        "id": "ajyc_8SNBYw_",
        "outputId": "433683c9-df95-4337-c77a-71cbafb13fa4"
      },
      "source": [
        "!pip install -q tf-models-official"
      ],
      "execution_count": 69,
      "outputs": [
        {
          "output_type": "stream",
          "text": [
            "\u001b[K     |████████████████████████████████| 1.6 MB 5.0 MB/s \n",
            "\u001b[K     |████████████████████████████████| 43 kB 1.6 MB/s \n",
            "\u001b[K     |████████████████████████████████| 99 kB 8.1 MB/s \n",
            "\u001b[K     |████████████████████████████████| 352 kB 47.9 MB/s \n",
            "\u001b[K     |████████████████████████████████| 636 kB 46.7 MB/s \n",
            "\u001b[K     |████████████████████████████████| 37.1 MB 1.3 MB/s \n",
            "\u001b[K     |████████████████████████████████| 211 kB 75.2 MB/s \n",
            "\u001b[K     |████████████████████████████████| 1.2 MB 41.8 MB/s \n",
            "\u001b[K     |████████████████████████████████| 54 kB 2.4 MB/s \n",
            "\u001b[K     |████████████████████████████████| 679 kB 31.4 MB/s \n",
            "\u001b[?25h  Building wheel for py-cpuinfo (setup.py) ... \u001b[?25l\u001b[?25hdone\n",
            "  Building wheel for seqeval (setup.py) ... \u001b[?25l\u001b[?25hdone\n"
          ],
          "name": "stdout"
        }
      ]
    },
    {
      "cell_type": "code",
      "metadata": {
        "id": "eoAUwxEoBg4p"
      },
      "source": [
        "import os\n",
        "import shutil\n",
        "\n",
        "import tensorflow as tf\n",
        "import tensorflow_hub as hub\n",
        "import tensorflow_text as text\n",
        "from official.nlp import optimization  # to create AdamW optimizer\n",
        "\n",
        "import matplotlib.pyplot as plt\n",
        "\n",
        "tf.get_logger().setLevel('ERROR')"
      ],
      "execution_count": 70,
      "outputs": []
    },
    {
      "cell_type": "code",
      "metadata": {
        "id": "iLggBJc4BjN1"
      },
      "source": [
        ""
      ],
      "execution_count": null,
      "outputs": []
    }
  ]
}